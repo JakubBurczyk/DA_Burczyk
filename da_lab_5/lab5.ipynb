{
 "cells": [
  {
   "cell_type": "markdown",
   "metadata": {},
   "source": [
    "# Lab 5 - General Linear Models: Logistic regression"
   ]
  },
  {
   "cell_type": "code",
   "execution_count": 1,
   "metadata": {},
   "outputs": [],
   "source": [
    "from cmdstanpy import CmdStanModel\n",
    "\n",
    "import arviz as az\n",
    "import numpy as np\n",
    "import scipy.stats as stats\n",
    "\n",
    "import pandas as pd\n",
    "\n",
    "import matplotlib.pyplot as plt\n",
    "import matplotlib as mpl\n",
    "import pandas as pd\n"
   ]
  },
  {
   "cell_type": "markdown",
   "metadata": {},
   "source": [
    "#### Read data from csv file"
   ]
  },
  {
   "cell_type": "code",
   "execution_count": 2,
   "metadata": {},
   "outputs": [
    {
     "data": {
      "text/html": [
       "<div>\n",
       "<style scoped>\n",
       "    .dataframe tbody tr th:only-of-type {\n",
       "        vertical-align: middle;\n",
       "    }\n",
       "\n",
       "    .dataframe tbody tr th {\n",
       "        vertical-align: top;\n",
       "    }\n",
       "\n",
       "    .dataframe thead th {\n",
       "        text-align: right;\n",
       "    }\n",
       "</style>\n",
       "<table border=\"1\" class=\"dataframe\">\n",
       "  <thead>\n",
       "    <tr style=\"text-align: right;\">\n",
       "      <th></th>\n",
       "      <th>Unnamed: 0</th>\n",
       "      <th>x1</th>\n",
       "      <th>x2</th>\n",
       "      <th>x3</th>\n",
       "      <th>x4</th>\n",
       "      <th>x5</th>\n",
       "      <th>y</th>\n",
       "    </tr>\n",
       "  </thead>\n",
       "  <tbody>\n",
       "    <tr>\n",
       "      <th>count</th>\n",
       "      <td>500.000000</td>\n",
       "      <td>500.000000</td>\n",
       "      <td>500.000000</td>\n",
       "      <td>500.000000</td>\n",
       "      <td>5.000000e+02</td>\n",
       "      <td>5.000000e+02</td>\n",
       "      <td>500.000000</td>\n",
       "    </tr>\n",
       "    <tr>\n",
       "      <th>mean</th>\n",
       "      <td>249.500000</td>\n",
       "      <td>-0.015777</td>\n",
       "      <td>0.334002</td>\n",
       "      <td>-0.001484</td>\n",
       "      <td>2.022817e-01</td>\n",
       "      <td>2.770684e-03</td>\n",
       "      <td>0.494000</td>\n",
       "    </tr>\n",
       "    <tr>\n",
       "      <th>std</th>\n",
       "      <td>144.481833</td>\n",
       "      <td>0.578292</td>\n",
       "      <td>0.301507</td>\n",
       "      <td>0.383111</td>\n",
       "      <td>2.738984e-01</td>\n",
       "      <td>3.107472e-01</td>\n",
       "      <td>0.500465</td>\n",
       "    </tr>\n",
       "    <tr>\n",
       "      <th>min</th>\n",
       "      <td>0.000000</td>\n",
       "      <td>-0.997592</td>\n",
       "      <td>0.000005</td>\n",
       "      <td>-0.992794</td>\n",
       "      <td>2.276756e-11</td>\n",
       "      <td>-9.880191e-01</td>\n",
       "      <td>0.000000</td>\n",
       "    </tr>\n",
       "    <tr>\n",
       "      <th>25%</th>\n",
       "      <td>124.750000</td>\n",
       "      <td>-0.515144</td>\n",
       "      <td>0.064052</td>\n",
       "      <td>-0.136718</td>\n",
       "      <td>4.102616e-03</td>\n",
       "      <td>-3.628888e-02</td>\n",
       "      <td>0.000000</td>\n",
       "    </tr>\n",
       "    <tr>\n",
       "      <th>50%</th>\n",
       "      <td>249.500000</td>\n",
       "      <td>-0.026042</td>\n",
       "      <td>0.254724</td>\n",
       "      <td>-0.000018</td>\n",
       "      <td>6.488454e-02</td>\n",
       "      <td>-1.278838e-08</td>\n",
       "      <td>0.000000</td>\n",
       "    </tr>\n",
       "    <tr>\n",
       "      <th>75%</th>\n",
       "      <td>374.250000</td>\n",
       "      <td>0.475396</td>\n",
       "      <td>0.555544</td>\n",
       "      <td>0.107440</td>\n",
       "      <td>3.086316e-01</td>\n",
       "      <td>2.428165e-02</td>\n",
       "      <td>1.000000</td>\n",
       "    </tr>\n",
       "    <tr>\n",
       "      <th>max</th>\n",
       "      <td>499.000000</td>\n",
       "      <td>0.999652</td>\n",
       "      <td>0.999305</td>\n",
       "      <td>0.998957</td>\n",
       "      <td>9.986100e-01</td>\n",
       "      <td>9.982628e-01</td>\n",
       "      <td>1.000000</td>\n",
       "    </tr>\n",
       "  </tbody>\n",
       "</table>\n",
       "</div>"
      ],
      "text/plain": [
       "       Unnamed: 0          x1          x2          x3            x4  \\\n",
       "count  500.000000  500.000000  500.000000  500.000000  5.000000e+02   \n",
       "mean   249.500000   -0.015777    0.334002   -0.001484  2.022817e-01   \n",
       "std    144.481833    0.578292    0.301507    0.383111  2.738984e-01   \n",
       "min      0.000000   -0.997592    0.000005   -0.992794  2.276756e-11   \n",
       "25%    124.750000   -0.515144    0.064052   -0.136718  4.102616e-03   \n",
       "50%    249.500000   -0.026042    0.254724   -0.000018  6.488454e-02   \n",
       "75%    374.250000    0.475396    0.555544    0.107440  3.086316e-01   \n",
       "max    499.000000    0.999652    0.999305    0.998957  9.986100e-01   \n",
       "\n",
       "                 x5           y  \n",
       "count  5.000000e+02  500.000000  \n",
       "mean   2.770684e-03    0.494000  \n",
       "std    3.107472e-01    0.500465  \n",
       "min   -9.880191e-01    0.000000  \n",
       "25%   -3.628888e-02    0.000000  \n",
       "50%   -1.278838e-08    0.000000  \n",
       "75%    2.428165e-02    1.000000  \n",
       "max    9.982628e-01    1.000000  "
      ]
     },
     "execution_count": 2,
     "metadata": {},
     "output_type": "execute_result"
    }
   ],
   "source": [
    "data = pd.read_csv('logistic_reg_data.csv')\n",
    "data.describe()"
   ]
  },
  {
   "cell_type": "markdown",
   "metadata": {},
   "source": [
    "### Prior selection\n"
   ]
  },
  {
   "cell_type": "code",
   "execution_count": 7,
   "metadata": {},
   "outputs": [
    {
     "name": "stderr",
     "output_type": "stream",
     "text": [
      "INFO:cmdstanpy:found newer exe file, not recompiling\n"
     ]
    }
   ],
   "source": [
    "model_ppc1 = CmdStanModel(stan_file='stanfiles/logistic_regression_ppc.stan')"
   ]
  },
  {
   "cell_type": "code",
   "execution_count": 8,
   "metadata": {},
   "outputs": [
    {
     "name": "stderr",
     "output_type": "stream",
     "text": [
      "INFO:cmdstanpy:CmdStan start processing\n",
      "chain 1 |\u001b[34m██████████\u001b[0m| 00:00 Sampling completed                      "
     ]
    },
    {
     "name": "stdout",
     "output_type": "stream",
     "text": [
      "                                                                                "
     ]
    },
    {
     "name": "stderr",
     "output_type": "stream",
     "text": [
      "\n",
      "INFO:cmdstanpy:CmdStan done processing.\n"
     ]
    },
    {
     "name": "stdout",
     "output_type": "stream",
     "text": [
      "\n"
     ]
    }
   ],
   "source": [
    "R=1000\n",
    "data_ppc = dict(N = data.shape[0],\n",
    "                 M = 5,\n",
    "                 X = data.iloc[:,0:5].values,\n",
    "                 sigma=10)\n",
    "\n",
    "sim_ppc1 = model_ppc1.sample(data=data_ppc, \n",
    "                           iter_sampling=R, iter_warmup=0, \n",
    "                           chains=1, \n",
    "                           refresh=R,\n",
    "                           fixed_param=True,\n",
    "                           seed=29042020)"
   ]
  },
  {
   "cell_type": "markdown",
   "metadata": {},
   "source": [
    "#### Task 1.\n",
    "\n",
    "1. Plot histograms of beta for prior model\n",
    "2. Plot again the same histograms but this time with other sigma values. For instace use values: 5, 2, 0.75.\n",
    "3. Consider which result should be taken into account when selecting prior."
   ]
  },
  {
   "cell_type": "code",
   "execution_count": 9,
   "metadata": {},
   "outputs": [
    {
     "data": {
      "image/png": "[encoded data removed]",
      "text/plain": [
       "<Figure size 432x288 with 1 Axes>"
      ]
     },
     "metadata": {
      "needs_background": "light"
     },
     "output_type": "display_data"
    }
   ],
   "source": [
    "beta = sim_ppc1.stan_variables()[\"beta\"]\n",
    "plt.hist(beta, bins = 100)\n",
    "plt.title('beta histogram')\n",
    "plt.show()"
   ]
  },
  {
   "cell_type": "code",
   "execution_count": 19,
   "metadata": {},
   "outputs": [],
   "source": [
    "def task_1_2(sigma = 1):\n",
    "    R=1000\n",
    "    data_ppc= dict(N = data.shape[0],\n",
    "                    M = 5,\n",
    "                    X = data.iloc[:,0:5].values,\n",
    "                    sigma=sigma)\n",
    "    sim_ppc = model_ppc1.sample(data=data_ppc, \n",
    "                            iter_sampling=R, iter_warmup=0, \n",
    "                            chains=1, \n",
    "                            refresh=R,\n",
    "                            fixed_param=True,\n",
    "                            seed=29042020)\n",
    "    beta = sim_ppc.stan_variables()[\"beta\"]\n",
    "\n",
    "    plt.hist(beta, bins = 100)\n",
    "    plt.title(f'Beta | σ={sigma}')\n",
    "    plt.grid()\n",
    "    plt.show()\n",
    "\n",
    "    return sim_ppc"
   ]
  },
  {
   "cell_type": "code",
   "execution_count": 20,
   "metadata": {},
   "outputs": [
    {
     "name": "stderr",
     "output_type": "stream",
     "text": [
      "INFO:cmdstanpy:CmdStan start processing\n",
      "chain 1 |\u001b[34m██████████\u001b[0m| 00:00 Sampling completed                      "
     ]
    },
    {
     "name": "stdout",
     "output_type": "stream",
     "text": [
      "                                                                                "
     ]
    },
    {
     "name": "stderr",
     "output_type": "stream",
     "text": [
      "\n",
      "INFO:cmdstanpy:CmdStan done processing.\n"
     ]
    },
    {
     "name": "stdout",
     "output_type": "stream",
     "text": [
      "\n"
     ]
    },
    {
     "data": {
      "image/png": "[encoded data removed]",
      "text/plain": [
       "<Figure size 432x288 with 1 Axes>"
      ]
     },
     "metadata": {
      "needs_background": "light"
     },
     "output_type": "display_data"
    },
    {
     "name": "stderr",
     "output_type": "stream",
     "text": [
      "INFO:cmdstanpy:CmdStan start processing\n",
      "chain 1 |\u001b[34m██████████\u001b[0m| 00:00 Sampling completed                      "
     ]
    },
    {
     "name": "stdout",
     "output_type": "stream",
     "text": [
      "                                                                                "
     ]
    },
    {
     "name": "stderr",
     "output_type": "stream",
     "text": [
      "\n",
      "INFO:cmdstanpy:CmdStan done processing.\n"
     ]
    },
    {
     "name": "stdout",
     "output_type": "stream",
     "text": [
      "\n"
     ]
    },
    {
     "data": {
      "image/png": "[encoded data removed]",
      "text/plain": [
       "<Figure size 432x288 with 1 Axes>"
      ]
     },
     "metadata": {
      "needs_background": "light"
     },
     "output_type": "display_data"
    },
    {
     "name": "stderr",
     "output_type": "stream",
     "text": [
      "INFO:cmdstanpy:CmdStan start processing\n",
      "chain 1 |\u001b[34m██████████\u001b[0m| 00:00 Sampling completed                      "
     ]
    },
    {
     "name": "stdout",
     "output_type": "stream",
     "text": [
      "                                                                                "
     ]
    },
    {
     "name": "stderr",
     "output_type": "stream",
     "text": [
      "\n",
      "INFO:cmdstanpy:CmdStan done processing.\n"
     ]
    },
    {
     "name": "stdout",
     "output_type": "stream",
     "text": [
      "\n"
     ]
    },
    {
     "data": {
      "image/png": "[encoded data removed]",
      "text/plain": [
       "<Figure size 432x288 with 1 Axes>"
      ]
     },
     "metadata": {
      "needs_background": "light"
     },
     "output_type": "display_data"
    }
   ],
   "source": [
    "\n",
    "sim_ppc1 = task_1_2(sigma = 5)\n",
    "sim_ppc1 = task_1_2(sigma = 2)\n",
    "sim_ppc1 = task_1_2(sigma = 0.75)"
   ]
  },
  {
   "cell_type": "markdown",
   "metadata": {},
   "source": [
    "### Posterior inference"
   ]
  },
  {
   "cell_type": "code",
   "execution_count": 21,
   "metadata": {},
   "outputs": [
    {
     "name": "stderr",
     "output_type": "stream",
     "text": [
      "INFO:cmdstanpy:found newer exe file, not recompiling\n"
     ]
    }
   ],
   "source": [
    "model = CmdStanModel(stan_file='stanfiles/logistic_regression.stan')"
   ]
  },
  {
   "cell_type": "code",
   "execution_count": 23,
   "metadata": {},
   "outputs": [
    {
     "name": "stderr",
     "output_type": "stream",
     "text": [
      "INFO:cmdstanpy:CmdStan start processing\n",
      "chain 1 |\u001b[33m          \u001b[0m| 00:00 Status\n",
      "\u001b[A\n",
      "\n",
      "\u001b[A\u001b[A\n",
      "chain 1 |\u001b[33m▉         \u001b[0m| 00:02 Iteration:    1 / 2000 [  0%]  (Warmup)\n",
      "\n",
      "\u001b[A\u001b[A\n",
      "chain 1 |\u001b[33m█▎        \u001b[0m| 00:03 Iteration:  100 / 2000 [  5%]  (Warmup)\n",
      "\n",
      "chain 1 |\u001b[33m█▊        \u001b[0m| 00:04 Iteration:  200 / 2000 [ 10%]  (Warmup)\n",
      "\u001b[A\n",
      "\n",
      "chain 1 |\u001b[33m██▎       \u001b[0m| 00:04 Iteration:  300 / 2000 [ 15%]  (Warmup)\n",
      "chain 1 |\u001b[33m██▋       \u001b[0m| 00:04 Iteration:  400 / 2000 [ 20%]  (Warmup)\n",
      "\n",
      "\u001b[A\u001b[A\n",
      "chain 1 |\u001b[33m███▏      \u001b[0m| 00:04 Iteration:  500 / 2000 [ 25%]  (Warmup)\n",
      "\n",
      "\u001b[A\u001b[A\n",
      "chain 1 |\u001b[33m███▋      \u001b[0m| 00:05 Iteration:  600 / 2000 [ 30%]  (Warmup)\n",
      "\u001b[A\n",
      "\n",
      "chain 1 |\u001b[33m████      \u001b[0m| 00:05 Iteration:  700 / 2000 [ 35%]  (Warmup)\n",
      "\u001b[A\n",
      "\n",
      "chain 1 |\u001b[33m████▌     \u001b[0m| 00:05 Iteration:  800 / 2000 [ 40%]  (Warmup)\n",
      "\u001b[A\n",
      "\n",
      "chain 1 |\u001b[33m█████     \u001b[0m| 00:05 Iteration:  900 / 2000 [ 45%]  (Warmup)\n",
      "\u001b[A\n",
      "\n",
      "chain 1 |\u001b[34m█████▉    \u001b[0m| 00:05 Iteration: 1001 / 2000 [ 50%]  (Sampling)\n",
      "\u001b[A\n",
      "\n",
      "\u001b[A\u001b[A\n",
      "chain 1 |\u001b[34m██████▎   \u001b[0m| 00:06 Iteration: 1100 / 2000 [ 55%]  (Sampling)\n",
      "\n",
      "\u001b[A\u001b[A\n",
      "\u001b[A\n",
      "\n",
      "chain 1 |\u001b[34m██████▊   \u001b[0m| 00:06 Iteration: 1200 / 2000 [ 60%]  (Sampling)\n",
      "chain 1 |\u001b[34m███████▎  \u001b[0m| 00:06 Iteration: 1300 / 2000 [ 65%]  (Sampling)\n",
      "\n",
      "\u001b[A\u001b[A\n",
      "chain 1 |\u001b[34m███████▋  \u001b[0m| 00:07 Iteration: 1400 / 2000 [ 70%]  (Sampling)\n",
      "\n",
      "\u001b[A\u001b[A\n",
      "\u001b[A\n",
      "\n",
      "chain 1 |\u001b[34m████████▏ \u001b[0m| 00:07 Iteration: 1500 / 2000 [ 75%]  (Sampling)\n",
      "\u001b[A\n",
      "\n",
      "chain 1 |\u001b[34m████████▋ \u001b[0m| 00:07 Iteration: 1600 / 2000 [ 80%]  (Sampling)\n",
      "chain 1 |\u001b[34m█████████ \u001b[0m| 00:07 Iteration: 1700 / 2000 [ 85%]  (Sampling)\n",
      "\n",
      "\u001b[A\u001b[A\n",
      "\u001b[A\n",
      "\n",
      "chain 1 |\u001b[34m█████████▌\u001b[0m| 00:08 Iteration: 1800 / 2000 [ 90%]  (Sampling)\n",
      "\u001b[A\n",
      "\n",
      "chain 1 |\u001b[34m██████████\u001b[0m| 00:08 Iteration: 1900 / 2000 [ 95%]  (Sampling)\n",
      "\n",
      "chain 1 |\u001b[34m██████████\u001b[0m| 00:08 Sampling completed                       \n",
      "chain 2 |\u001b[34m██████████\u001b[0m| 00:08 Sampling completed                       \n",
      "chain 3 |\u001b[34m██████████\u001b[0m| 00:08 Sampling completed                       \n",
      "chain 4 |\u001b[34m██████████\u001b[0m| 00:08 Sampling completed                       "
     ]
    },
    {
     "name": "stdout",
     "output_type": "stream",
     "text": [
      "                                                                                                                                                                                                                                                                                                                                "
     ]
    },
    {
     "name": "stderr",
     "output_type": "stream",
     "text": [
      "\n",
      "INFO:cmdstanpy:CmdStan done processing.\n"
     ]
    },
    {
     "name": "stdout",
     "output_type": "stream",
     "text": [
      "\n"
     ]
    }
   ],
   "source": [
    "data_dict = dict(N = data.shape[0],\n",
    "                 M = 5,\n",
    "                 X = data.iloc[:,0:5].values,\n",
    "                 y = data.y.values\n",
    "                 )\n",
    "fit = model.sample(data=data_dict, seed=4938483)"
   ]
  },
  {
   "cell_type": "code",
   "execution_count": 24,
   "metadata": {},
   "outputs": [
    {
     "data": {
      "image/png": "[encoded data removed]",
      "text/plain": [
       "<Figure size 432x288 with 1 Axes>"
      ]
     },
     "metadata": {
      "needs_background": "light"
     },
     "output_type": "display_data"
    }
   ],
   "source": [
    "#plot\n",
    "med_prob_ppc = np.percentile(fit.stan_variable('prob_ppc'),[25,50,75],axis=0)\n",
    "estimate_ppc_df = pd.DataFrame(med_prob_ppc.T,columns = ['lo','med','hi'])\n",
    "\n",
    "estimate_ppc_df.plot.hist(bins=50)\n",
    "plt.show()"
   ]
  },
  {
   "cell_type": "markdown",
   "metadata": {},
   "source": [
    "#### Task 2.\n",
    "\n",
    "1. Edit stan model and create models with different priors. Use original setting and some priors from task 1.\n",
    "2. Fit the model\n",
    "3. Plot the probability of individual outcome:\n",
    "- plot generated paramether theta (prob_pcc): mean with its error bars (plt.errorbar)\n",
    "- to plot its error bars take into consider its 25th, 50th and 75th percentile\n",
    "- also mark the real value of y, by different colored dots (for mean values)\n",
    "    \n",
    "4. Consider if the probability was well captured by each setting"
   ]
  },
  {
   "cell_type": "code",
   "execution_count": 25,
   "metadata": {},
   "outputs": [
    {
     "data": {
      "image/png": "[encoded data removed]",
      "text/plain": [
       "<Figure size 432x288 with 1 Axes>"
      ]
     },
     "metadata": {
      "needs_background": "light"
     },
     "output_type": "display_data"
    }
   ],
   "source": [
    "theta  = []\n",
    "for elem in fit.stan_variables()[\"prob_ppc\"]:\n",
    "    theta.append(np.mean(elem))\n",
    "\n",
    "plt.plot(theta)\n",
    "plt.title('theta')\n",
    "plt.show()"
   ]
  },
  {
   "cell_type": "code",
   "execution_count": 26,
   "metadata": {},
   "outputs": [
    {
     "data": {
      "image/png": "[encoded data removed]",
      "text/plain": [
       "<Figure size 432x288 with 1 Axes>"
      ]
     },
     "metadata": {
      "needs_background": "light"
     },
     "output_type": "display_data"
    },
    {
     "data": {
      "image/png": "[encoded data removed]",
      "text/plain": [
       "<Figure size 432x288 with 1 Axes>"
      ]
     },
     "metadata": {
      "needs_background": "light"
     },
     "output_type": "display_data"
    },
    {
     "data": {
      "image/png": "[encoded data removed]",
      "text/plain": [
       "<Figure size 432x288 with 1 Axes>"
      ]
     },
     "metadata": {
      "needs_background": "light"
     },
     "output_type": "display_data"
    }
   ],
   "source": [
    "param_l = 0\n",
    "param_h = 100\n",
    "plt.errorbar(range(param_l, param_h), theta[param_l:param_h], yerr = 0.25)\n",
    "plt.title(\"0.25\")\n",
    "plt.show()\n",
    "\n",
    "plt.errorbar(range(param_l, param_h), theta[param_l:param_h], yerr = 0.5)\n",
    "plt.title(\"0.5\")\n",
    "plt.show()\n",
    "\n",
    "plt.errorbar(range(param_l, param_h), theta[param_l:param_h], yerr = 0.75)\n",
    "plt.title(\"0.75\")\n",
    "plt.show()"
   ]
  }
 ],
 "metadata": {
  "kernelspec": {
   "display_name": "Python 3 (ipykernel)",
   "language": "python",
   "name": "python3"
  },
  "language_info": {
   "codemirror_mode": {
    "name": "ipython",
    "version": 3
   },
   "file_extension": ".py",
   "mimetype": "text/x-python",
   "name": "python",
   "nbconvert_exporter": "python",
   "pygments_lexer": "ipython3",
   "version": "3.9.7"
  }
 },
 "nbformat": 4,
 "nbformat_minor": 4
}
